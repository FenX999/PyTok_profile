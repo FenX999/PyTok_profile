{
 "cells": [
  {
   "cell_type": "code",
   "execution_count": null,
   "id": "c69af966",
   "metadata": {},
   "outputs": [],
   "source": [
    "from selenium import webdriver\n",
    "from selenium.webdriver.chrome.service import Service\n",
    "from selenium.webdriver.common.desired_capabilities import DesiredCapabilities\n",
    "from selenium.webdriver.support.wait import WebDriverWait\n",
    "from selenium.webdriver.support import expected_conditions as EC\n",
    "from selenium.webdriver.common.keys import Keys\n",
    "from selenium.webdriver.common.by import By\n",
    "\n",
    "from selenium.common.exceptions import NoSuchElementException\n",
    "\n",
    "import random, time, os, requests\n",
    "\n",
    "import config"
   ]
  },
  {
   "cell_type": "code",
   "execution_count": null,
   "id": "32433930",
   "metadata": {},
   "outputs": [],
   "source": [
    "service = Service(config.WEBDRIVER_PATH)\n",
    "\n",
    "browser_options = webdriver.ChromeOptions()\n",
    "options = [\n",
    "    '--disable-blink-features',\n",
    "    '--mute-audio',\n",
    "    '--no-sandbox', \n",
    "    '--disable-extensions',\n",
    "    '--ignore-certificate-errors', \n",
    "    #'--headless',\n",
    "    '--window-size=1920,1080'\n",
    "   ]\n",
    "for option in options:\n",
    "    browser_options.add_argument(option)\n",
    "browser = webdriver.Chrome(service=service, options=browser_options)\n",
    "wait = WebDriverWait(browser, 12000)\n",
    "\n",
    "\n",
    "profile = config.TARGET\n",
    "TikTok = \"https://www.tiktok.com/@\"\n",
    "\n",
    "spath = config.SAVE_PATH\n",
    "\n",
    "LINK = TikTok+profile\n",
    "\n",
    "\n"
   ]
  },
  {
   "cell_type": "code",
   "execution_count": null,
   "id": "06f174d9",
   "metadata": {},
   "outputs": [],
   "source": [
    "#os utils "
   ]
  },
  {
   "cell_type": "code",
   "execution_count": null,
   "id": "7fc9f9e8",
   "metadata": {},
   "outputs": [],
   "source": [
    "def make_path(spath, profile):\n",
    "    return os.path.join(spath, profile)"
   ]
  },
  {
   "cell_type": "code",
   "execution_count": null,
   "id": "177dcb75",
   "metadata": {},
   "outputs": [],
   "source": [
    "def make_dir(spath , profile):\n",
    "    try:\n",
    "        make_dir = os.mkdir(make_path(spath, profile))\n",
    "    except Exception as e:\n",
    "        print(f' make_dir() as return {e}')\n",
    "        pass"
   ]
  },
  {
   "cell_type": "code",
   "execution_count": null,
   "id": "9f06a418",
   "metadata": {},
   "outputs": [],
   "source": [
    "def download_mp4(name, url):\n",
    "    name = name + \".mp4\"\n",
    "    r = requests.get(url)\n",
    "    with open(name, 'wb') as f:\n",
    "        for chunk in r.iter_content(chunk_size=255): \n",
    "            if chunk:\n",
    "                f.write(chunk)"
   ]
  },
  {
   "cell_type": "code",
   "execution_count": null,
   "id": "9a168d7c",
   "metadata": {},
   "outputs": [],
   "source": [
    "#selenium utils "
   ]
  },
  {
   "cell_type": "code",
   "execution_count": null,
   "id": "30506f5b",
   "metadata": {},
   "outputs": [],
   "source": [
    "def scroll_bottom():\n",
    "    print('scrolling down...')\n",
    "    last_height =  browser.execute_script(\"return document.body.scrollHeight\")\n",
    "    while True:\n",
    "      browser.execute_script(\"window.scrollTo(0, document.body.scrollHeight);\")\n",
    "      time.sleep(1)\n",
    "      new_height = browser.execute_script(\"return document.body.scrollHeight\")\n",
    "      if new_height == last_height:\n",
    "        break\n",
    "      last_height = new_height"
   ]
  },
  {
   "cell_type": "code",
   "execution_count": null,
   "id": "13e70aab",
   "metadata": {},
   "outputs": [],
   "source": [
    "def open_newtab():\n",
    "    browser.execute_script(\"window.open('');\")\n",
    "    browser.switch_to.window(browser.window_handles[1])\n"
   ]
  },
  {
   "cell_type": "code",
   "execution_count": null,
   "id": "efb2aa1b",
   "metadata": {},
   "outputs": [],
   "source": [
    "def close_newtab():\n",
    "    browser.close()\n",
    "    browser.switch_to.window(browser.window_handles[0])"
   ]
  },
  {
   "cell_type": "code",
   "execution_count": null,
   "id": "228deb10",
   "metadata": {},
   "outputs": [],
   "source": [
    "#start script"
   ]
  },
  {
   "cell_type": "code",
   "execution_count": null,
   "id": "ae91d0ed",
   "metadata": {},
   "outputs": [],
   "source": [
    "def get_website():\n",
    "    make_dir(spath, profile)\n",
    "    browser.get(LINK)\n",
    "    print(\"request ok\")\n",
    "    \n",
    "    "
   ]
  },
  {
   "cell_type": "code",
   "execution_count": null,
   "id": "2569a74a",
   "metadata": {},
   "outputs": [],
   "source": [
    "def fetch_video():\n",
    "    path = make_path(spath, profile)\n",
    "    print(path)\n",
    "    url = []\n",
    "    videos = browser.find_elements(By.TAG_NAME, \"a\" )\n",
    "    for video in videos:\n",
    "        url.append(video.get_attribute('href') if video.get_attribute('href').split('/')[3] == \"@\"+profile else None)\n",
    "    if url:\n",
    "        for i in url:\n",
    "            if i is not None:\n",
    "                open_newtab()\n",
    "                browser.get(i)\n",
    "                src = browser.find_element(By.TAG_NAME, \"video\").get_attribute('src')\n",
    "                destination = path+\"/\"+i.split('/')[-1]\n",
    "                print(destination)\n",
    "                print(src)\n",
    "                download_mp4(destination, src)\n",
    "                close_newtab()\n",
    "               "
   ]
  },
  {
   "cell_type": "code",
   "execution_count": null,
   "id": "aad861dd",
   "metadata": {},
   "outputs": [],
   "source": [
    "get_website()\n",
    "\n",
    "time.sleep(3)\n",
    "scroll_bottom()\n",
    "time.sleep(2)\n",
    "fetch_video()"
   ]
  },
  {
   "cell_type": "code",
   "execution_count": null,
   "id": "a8a06eec",
   "metadata": {},
   "outputs": [],
   "source": []
  },
  {
   "cell_type": "code",
   "execution_count": null,
   "id": "2c0f9ffb",
   "metadata": {},
   "outputs": [],
   "source": []
  }
 ],
 "metadata": {
  "kernelspec": {
   "display_name": ".automated_env",
   "language": "python",
   "name": ".automated_env"
  },
  "language_info": {
   "codemirror_mode": {
    "name": "ipython",
    "version": 3
   },
   "file_extension": ".py",
   "mimetype": "text/x-python",
   "name": "python",
   "nbconvert_exporter": "python",
   "pygments_lexer": "ipython3",
   "version": "3.8.10"
  }
 },
 "nbformat": 4,
 "nbformat_minor": 5
}
